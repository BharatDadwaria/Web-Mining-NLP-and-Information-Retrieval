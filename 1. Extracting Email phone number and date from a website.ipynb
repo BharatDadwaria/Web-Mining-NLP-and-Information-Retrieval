{
 "cells": [
  {
   "cell_type": "markdown",
   "metadata": {},
   "source": [
    "## Web Mining : Information Retrival and Natural Language Processing\n",
    "\n",
    "### Extracting Phone number, Email id and date from a website"
   ]
  },
  {
   "cell_type": "markdown",
   "metadata": {},
   "source": [
    "Given a web document such as Email/Contact details . Write a Program to extract the following using Regular Expression:\n",
    "(Write regular expressions in documentation)\n",
    "* a. Extract Phone Number(10 digit number) and other variants\n",
    "* b. Extract Email-id\n",
    "* c. Extract date"
   ]
  },
  {
   "cell_type": "markdown",
   "metadata": {},
   "source": [
    "#### Step 1 : Importing necessary libraries"
   ]
  },
  {
   "cell_type": "code",
   "execution_count": 2,
   "metadata": {},
   "outputs": [],
   "source": [
    "import re\n",
    "import requests\n",
    "from bs4 import BeautifulSoup\n",
    "import urllib.request"
   ]
  },
  {
   "cell_type": "markdown",
   "metadata": {},
   "source": [
    "#### Step 2 : Fetching Website data"
   ]
  },
  {
   "cell_type": "code",
   "execution_count": 11,
   "metadata": {},
   "outputs": [
    {
     "name": "stdout",
     "output_type": "stream",
     "text": [
      "200\n"
     ]
    }
   ],
   "source": [
    "result=requests.get(\"https://www.jnu.ac.in/iha_admin\")\n",
    "src=result.content\n",
    "print(result.status_code)"
   ]
  },
  {
   "cell_type": "markdown",
   "metadata": {},
   "source": [
    "Status code 200 means it is accesible.\n",
    "\n",
    "We need to create a Beautiful Soup object first"
   ]
  },
  {
   "cell_type": "code",
   "execution_count": 12,
   "metadata": {},
   "outputs": [],
   "source": [
    "soup=BeautifulSoup(src,'lxml')\n",
    "links=soup.find_all(\"a\")"
   ]
  },
  {
   "cell_type": "markdown",
   "metadata": {},
   "source": [
    "Or we can do it through urllib.request library"
   ]
  },
  {
   "cell_type": "code",
   "execution_count": 18,
   "metadata": {},
   "outputs": [],
   "source": [
    "source=urllib.request.urlopen(\"https://www.jnu.ac.in/iha_admin\").read()\n",
    "#print(source)\n",
    "sou=BeautifulSoup(source,'lxml')\n",
    "#print(sou)"
   ]
  },
  {
   "cell_type": "markdown",
   "metadata": {},
   "source": [
    "If we compare to print source with sou the sou will print systematically"
   ]
  },
  {
   "cell_type": "code",
   "execution_count": 14,
   "metadata": {},
   "outputs": [],
   "source": [
    "info=[]\n",
    "for paragraph in sou.find_all('p'):\n",
    "    info.append(paragraph.string)"
   ]
  },
  {
   "cell_type": "markdown",
   "metadata": {},
   "source": [
    "#### Step 4: Fetching Usefull information such as Email id, Phone number and date"
   ]
  },
  {
   "cell_type": "code",
   "execution_count": 21,
   "metadata": {},
   "outputs": [
    {
     "name": "stdout",
     "output_type": "stream",
     "text": [
      "[[' 9953586031', ' 9013284596', ' 9971337097', ' 9999942937', ' 9968090548']]\n",
      "[\"'reenanainwal@mail.jnu.ac.in',\", \"'reenanainwal@gmail.com',\", \"'vandanamishra@mail.jnu.ac.in',\", \"'skshuklajnu@yahoo.com',\", \"'mishrarajnish@gmail.com',\", \"'neerjass@hotmail.com',\", \"'shaktinov30@yahoo.co.in',\", \"'bhaswati@mail.jnu.ac.in',\", \"'kaushalkumar@mail.jnu.ac.in',\", \"'gmeena28@yahoo.com',\", \"'sanjeevsharma@mail.jnu.ac.in',\", \"'saurabhsharma@mail.jnu.ac.in',\", \"'garima.jnu@gmail.com',\", \"'arnab@jnu.ac.in',\", \"'arnab@mail.jnu.ac.in',\", \"'gayettridixit@gmail.com',\", \"'pijussasmal@gmail.com',\", \"'pijus@mail.jnu.ac.in',\", \"'skateriya@jnu.ac.in\", \"suneel77@yahoo.com',\", \"'neetusingh@mail.jnu.ac.in',\", \"'guitemahal@gmail.com',\", \"'rprpalpal@gmail.com',\", \"'reetasony@mail.jnu.ac.in',\", \"'aprajitakash@gmail.com',\", \"'sunitareddy@mail.jnu.ac.in',\", \"'jyotiraj.2009@gmail.com',\", \"'amit.mishra.jnu@gmail.com',\", \"'sureshrjnu@gmail.com',\", \"'schand@mail.jnu.ac.in',\", \"'gparihar@gmail.com',\", \"'mkbarnwal@mail.jnu.ac.in\", \"hanamanish@gmail.com',\", \"'brajeshvka@gmail.com',\", \"'sapnarshah@mail.jnu.ac.in',\", \"'skanaujia@mail.jnu.ac.in',\", \"'punamkumari@mail.jnu.ac.in\", \"punam.hindi@gmail.com',\", \"'sheetal@mail.jnu.ac.in',\", \"'ray.saumyajit@gmail.com',\", \"'mehtavys@gmail.com',\", \"'mazharassam@gmail.com',\", \"'nshreeniwas@gmail.com',\", \"'kumar.pravesh27@gmail.com',\", \"'rahulraj@mail.jnu.ac.in',\", \"'dnpandey@mail.jnu.ac.in',\", \"'gajendra@mail.jnu.ac.in',\", \"'b.singh.jnu@gmail.com',\", \"'buddhasingh@mail.jnu.ac.in',\", \"'sneha@mail.jnu.ac.in\", \"'ramovatarmeena@mail.jnu.ac.in',\", \"'rajyadav@mail.jnu.ac.in',\", \"'joshiansh@gmail.com',\", \"'radhagayathri@gmail.com',\", \"'partima@mail.jnu.ac.in',\", \"'kavitaarora@mail.jnu.ac.in',\", \"'jaikhlong@mail.jnu.ac.in',\", \"'Jaikh.basumatary@gmail.com',\", \"'pkjoshi@mail.jnu.ac.in',\", \"'pkjoshi27@hotmail.com',\", \"'bansal.abhisheka@gmail.com\", \"'majmal@mail.jnu.ac.in',\", \"'sneh@mail.jnu.ac.in',\", \"'sneh10@hotmail.com',\", \"'tvvijaykumar@hotmail.com',\", \"'tvvk@mail.jnu.ac.in',\", \"'amit.kr@mail.jnu.ac.in\", \"amitkjnu@gmail.com',\", \"'syadav@mail.jnu.ac.in',\", \"'punamkumari@mail.jnu.ac.in',\", \"'amitmishra@mail.jnu.ac.in',\", \"'vkishore@mail.jnu.ac.in',\", \"'anshujoshi@mail.jnu.ac.in',\", \"'rahulraj@mail.jnu.ac.in',\", \"'jaikhlong@mail.jnu.ac.in',\", \"'reetasony@mail.jnu.ac.in',\", \"'gopalram@mail.jnu.ac.in',\", \"'rkyadav@mail.jnu.ac.in',\"]\n",
      "[[], ['15.05.2018', '14.05.2020', '11.05.2018', '10.05.2020', '15.05.2018', '14.05.2020', '15.05.2018', '14.05.2020', '09.12.2018', '08.12.2020', '06.06.2019', '05.06.2021', '09.04.2020', '08.04.2022', '17.02.2020', '16.02.2020', '10.04.2020', '09.04.2022', '07.11.2018', '06.11.2020', '20.12.2019', '19.12.2021', '11.11.2018', '10.11.2020', '14.08.2018', '13.08.2020', '06.06.2019', '06.06.2021', '12.04.2018', '11.04.2020', '13.03.2020', '12.03.2022', '11.04.2020', '10.04.2022', '01.08.2018', '31.07.2020', '04.11.2019', '03.02.2020', '17.02.2020', '16.02.2022', '10.04.2020', '09.04.2022', '18.04.2020', '17.04.2021', '17.02.2020', '16.02.2022', '01.08.2018', '31.07.2020', '06.12.2019', '05.12.2021', '10.04.2020', '09.04.2022', '08.04.2019', '07.04.2021', '02.08.2019', '01.08.2021', '01.08.2018', '31.07.2020', '03.09.2019', '02.09.2021', '01.08.2018', '31.07.2020', '12.04.2020', '11.04.2022', '21.08.2018', '20.08.2020', '21.08.2018', '20.08.2020', '01.10.2019', '31.03.2020', '01.07.2019', '30.06.2021', '01.03.2020', '28.02.2022', '20.12.2019', '19.12.2021', '10.04.2020', '09.04.2022', '10.04.2020', '09.04.2022', '01.03.2019', '28.02.2021', '17.02.2020', '16.02.2022', '02.08.2019', '01.08.2021', '03.08.2019', '02.08.2021', '29.08.2019', '28.08.2021', '05.11.2019', '04.11.2021', '11.04.2020', '10.04.2022', '01.11.2018', '31.10.2020', '27.10.2018', '26.10.2020', '23.10.2019', '22.10.2021', '23.09.2018', '22.09.2020', '12.05.2019', '11.05.2021', '01.09.2019', '31.08.2020', '19.04.2020', '18.04.2022', '07.11.2018', '06.11.2020', '01.11.2018', '31.10.2020', '20.12.2019', '16.06.2019', '15.06.2021', '01.10.2018', '30.09.2020', '01.06.2019', '31.05.2021', '13.04.2020', '12.04.2022', '15.10.2019', '14.04.2020', '15.04.2019', '27.11.2019', '26.11.2021', '18.01.2020', '17.01.2022', '18.10.2018', '17.10.2020']]\n"
     ]
    }
   ],
   "source": [
    "emailExtract=re.findall(r'\\S+@\\S+',str(info)) \n",
    "lst=re.findall(r'\\+\\d\\d\\d\\d\\d\\d\\d\\d\\d\\d\\d\\d+',str(info))\n",
    "lst2=re.findall(r'\\s\\d\\d\\d\\d\\d\\d\\d\\d\\d\\d+',str(info))\n",
    "lst.append(lst2)\n",
    "date=re.findall(r'\\d{2}\\/[0-9]{2}\\/[0-9]{4}',str(info))\n",
    "dat2=re.findall(r'\\d{2}\\s[A-Za-z][A-Za-z][A-Za-z]\\s\\d{4}',str(info))\n",
    "dat3=re.findall(r'\\d{2}\\.[0-9]{2}\\.[0-9]{4}',str(info))\n",
    "date.append(dat2)\n",
    "date.append(dat3)\n",
    "#mob_no_database=lst.search(lst)\n",
    "print(lst)\n",
    "print(emailExtract)\n",
    "print(date)"
   ]
  },
  {
   "cell_type": "code",
   "execution_count": null,
   "metadata": {},
   "outputs": [],
   "source": []
  }
 ],
 "metadata": {
  "kernelspec": {
   "display_name": "Python 3",
   "language": "python",
   "name": "python3"
  },
  "language_info": {
   "codemirror_mode": {
    "name": "ipython",
    "version": 3
   },
   "file_extension": ".py",
   "mimetype": "text/x-python",
   "name": "python",
   "nbconvert_exporter": "python",
   "pygments_lexer": "ipython3",
   "version": "3.7.3"
  }
 },
 "nbformat": 4,
 "nbformat_minor": 2
}
